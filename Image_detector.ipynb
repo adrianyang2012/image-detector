{
  "nbformat": 4,
  "nbformat_minor": 0,
  "metadata": {
    "colab": {
      "name": "Image_detector.ipynb",
      "private_outputs": true,
      "provenance": [],
      "include_colab_link": true
    },
    "kernelspec": {
      "name": "python3",
      "display_name": "Python 3"
    },
    "language_info": {
      "name": "python"
    }
  },
  "cells": [
    {
      "cell_type": "markdown",
      "metadata": {
        "id": "view-in-github",
        "colab_type": "text"
      },
      "source": [
        "<a href=\"https://colab.research.google.com/github/adrianyang2012/image-detector/blob/main/Image_detector.ipynb\" target=\"_parent\"><img src=\"https://colab.research.google.com/assets/colab-badge.svg\" alt=\"Open In Colab\"/></a>"
      ]
    },
    {
      "cell_type": "code",
      "execution_count": null,
      "metadata": {
        "id": "o339j_MiHo8h"
      },
      "outputs": [],
      "source": [
        "import bs4\n",
        "#!pip install cairosvg\n",
        "import requests\n",
        "import IPython\n",
        "import numpy as np\n",
        "import pandas as pd\n",
        "import cv2 as cv \n",
        "from google.colab.patches import cv2_imshow # for image display\n",
        "from skimage import io\n",
        "from PIL import Image \n",
        "import matplotlib.pylab as plt\n",
        "#from potrace import Bitmap\n",
        "\n",
        "\n",
        "HEIGHT_RESIZED = 450\n",
        "class ImageDetector():\n",
        "  '''\n",
        "  detects images and draws them\n",
        "  if no images says no images\n",
        "  '''\n",
        "  def __init__(self,url):\n",
        "    self.url = url\n",
        "    shortcuts = {'1':'https://www.google.com/','2':'https://roboflow.com/','3':'https://www.projectup.net/article/view/id/15726','4':'https://landing.ai/','5':'https://welcome.astrobin.com/'}\n",
        "    if self.url in shortcuts.keys():\n",
        "      print('yes')\n",
        "      self.url = shortcuts[url]\n",
        "    print(self.url[-1])\n",
        "\n",
        "    if not self.url[-1] == '/':\n",
        "      self.url += '/'\n",
        "\n",
        "\n",
        "  def get_HTML(self):\n",
        "    '''\n",
        "    gets HTML content\n",
        "    '''\n",
        "    page = requests.get(self.url)\n",
        "    \n",
        "    page.raise_for_status()\n",
        "    \n",
        "    \n",
        "    content = bs4.BeautifulSoup(page.text, 'html.parser')\n",
        "    self.images = [img for img in content.find_all('img')]\n",
        "\n",
        "\n",
        "  def show_img_links(self):\n",
        "    a = []\n",
        "    for i in range(0,len(self.images)):\n",
        "      self.images[i]  = str(self.images[i]).split('\"')\n",
        "      try:\n",
        "        s = self.images[i].index(' src=')+1\n",
        "      except:\n",
        "        try:\n",
        "          s = self.images[i].index('<img src=')+1\n",
        "        except:\n",
        "          s = self.images[i].index(' data-src=')+1\n",
        "      a.append(self.images[i][s])\n",
        "    \n",
        "    for i in range(0,len(a)):\n",
        "      a[i] = a[i].replace('\\n','')\n",
        "      a[i] = a[i].replace(' ','')\n",
        "      a[i] = a[i].replace('///','/')   \n",
        "    for i in range(0,len(a)):\n",
        "      if 'http' not in a[i]:\n",
        "        b = a[i][:13]\n",
        "        print(b)\n",
        "        print(a[i][:13])\n",
        "        print('.' in b)\n",
        "\n",
        "          \n",
        "        #s = f\"http://{a[i]}\"\n",
        "        print(a[i])\n",
        "        print(f\"here:{'.com' in a[i]}\")\n",
        "        if  b[0] == \"'\" or '.com' in a[i]:\n",
        "          print('ok')\n",
        "          s = f\"http://{a[i]}\"\n",
        "          a[i] = s\n",
        "        else:\n",
        "          s = f\"{self.url}{a[i]}\"\n",
        "          a[i] =s\n",
        "          try:\n",
        "              page = requests.get(self.url)\n",
        "              page.raise_for_status()\n",
        "              content = bs4.BeautifulSoup(page.text, 'html.parser')\n",
        "          except:\n",
        "            try:\n",
        "              s = f\"http://{a[i]}\"\n",
        "            except:\n",
        "              s = f\"https://{a[i]}\"\n",
        "    removeing = ['\\n',' ']\n",
        "    for i in range(0,len(a)):\n",
        "      a[i] = a[i].replace('\\n','')\n",
        "      a[i] = a[i].replace(' ','')\n",
        "      a[i] = a[i].replace('///','/')\n",
        "    return a\n",
        "\n",
        "\n",
        "  def plot_images(self,links):\n",
        "\n",
        "    for link in links:\n",
        "      print(link)\n",
        "\n",
        "      #hi\n",
        "      if '.svg' in link:\n",
        "\n",
        "        # Convert from svg to png\n",
        "        print('Warning can\\'t disaply SVG images')\n",
        "        continue\n",
        "      image = io.imread(link)\n",
        "      ratio = image.shape[1]/image.shape[0]\n",
        "      print(ratio)\n",
        "      \n",
        "      print(image.shape)\n",
        "      resized = cv.cvtColor(image, cv.COLOR_BGR2RGB)\n",
        "      \n",
        "      resized = cv.resize(resized,(int(HEIGHT_RESIZED*ratio),HEIGHT_RESIZED),interpolation = cv.INTER_AREA)\n",
        "      \n",
        "      cv2_imshow(resized)\n",
        "      print('\\n')\n",
        "      \n",
        "     \n",
        "\n",
        "      \n",
        "\n",
        "      \n",
        "\n",
        "imagedetector = ImageDetector(input('type a URL:'))\n",
        "imagedetector.get_HTML()\n",
        "links = imagedetector.show_img_links()\n",
        "print(links)\n",
        "imagedetector.plot_images(links)"
      ]
    },
    {
      "cell_type": "code",
      "source": [
        ""
      ],
      "metadata": {
        "id": "RjSwBjQCBWVT"
      },
      "execution_count": null,
      "outputs": []
    },
    {
      "cell_type": "code",
      "source": [
        "int('G',base=36)"
      ],
      "metadata": {
        "id": "jkKJKmqnO54k"
      },
      "execution_count": null,
      "outputs": []
    },
    {
      "cell_type": "code",
      "source": [
        ""
      ],
      "metadata": {
        "id": "BMbkfXxaKFdA"
      },
      "execution_count": null,
      "outputs": []
    },
    {
      "cell_type": "code",
      "source": [
        "def bit_to_decimal(a):\n",
        "  s = 0\n",
        "  i = 0\n",
        "  a = [::-1]\n",
        "  for char in a:\n",
        "    \n",
        "    a = int(char) * 2**i\n",
        "    s+= a\n",
        "    print('beep boop')\n",
        "    i+=1\n",
        "  return s\n",
        "bit_to_decimal('1001')\n",
        "def decimal_to_bit(a):\n",
        "  bits = \"\"\n",
        "  while True:\n",
        "    if not a >= 1: break\n",
        "    a = a/2\n",
        "    print(a)\n",
        "    \n",
        "    if float(int(a)) != a:\n",
        "      bits+='1'\n",
        "    else:\n",
        "      bits+='0'\n",
        "  return bits[::-1]\n",
        "\n",
        "print((decimal_to_bit(10)))\n",
        "\n"
      ],
      "metadata": {
        "id": "0YIy_1hBDFGv"
      },
      "execution_count": null,
      "outputs": []
    },
    {
      "cell_type": "code",
      "source": [
        "1.0 is 1"
      ],
      "metadata": {
        "id": "3Lhbgw7hU-HX"
      },
      "execution_count": null,
      "outputs": []
    },
    {
      "cell_type": "code",
      "source": [
        "2.2e+202\n"
      ],
      "metadata": {
        "id": "AAJcJcuFDiF-"
      },
      "execution_count": null,
      "outputs": []
    },
    {
      "cell_type": "code",
      "source": [
        "from cairosvg import svg2png\n",
        "\n",
        "svg_code = \"\"\"\n",
        "    <svg xmlns=\"http://www.w3.org/2000/svg\" width=\"24\" height=\"24\" viewBox=\"0 0 24 24\" fill=\"none\" stroke=\"#000\" stroke-width=\"2\" stroke-linecap=\"round\" stroke-linejoin=\"round\">\n",
        "        <circle cx=\"12\" cy=\"12\" d=\"10\"/>\n",
        "        <line x1=\"12\" y1=\"8\" x2=\"12\" y2=\"12\"/>\n",
        "        <line x1=\"12\" y1=\"16\" x2=\"12\" y2=\"16\"/>\n",
        "    </svg>\n",
        "\"\"\"\n",
        "\n",
        "svg2png(bytestring=svg_code,write_to='')"
      ],
      "metadata": {
        "id": "_WP-EtffeHeU"
      },
      "execution_count": null,
      "outputs": []
    },
    {
      "cell_type": "code",
      "source": [
        "2 and 0"
      ],
      "metadata": {
        "id": "89CCAJivM5on"
      },
      "execution_count": null,
      "outputs": []
    },
    {
      "cell_type": "code",
      "source": [
        "d = '1230'\n",
        "d[-3]"
      ],
      "metadata": {
        "id": "xIJ_PoR67yMs"
      },
      "execution_count": null,
      "outputs": []
    },
    {
      "cell_type": "code",
      "source": [
        "a = 'ywerdio qbw7c8i'\n",
        "a[:3]"
      ],
      "metadata": {
        "id": "HdcZPALw1CXB"
      },
      "execution_count": null,
      "outputs": []
    },
    {
      "cell_type": "code",
      "source": [
        "help(cv.imread)"
      ],
      "metadata": {
        "id": "uhSrco5pN0v4"
      },
      "execution_count": null,
      "outputs": []
    },
    {
      "cell_type": "markdown",
      "source": [
        "Test targets\n",
        "* https://www.google.com/\n",
        "* https://roboflow.com/\n",
        "* https://www.projectup.net/article/view/id/15726\n",
        "* https://landing.ai/ (not working for not yet known reason)\n",
        "* https://welcome.astrobin.com/"
      ],
      "metadata": {
        "id": "YrssO-lG6Wea"
      }
    },
    {
      "cell_type": "code",
      "source": [
        ""
      ],
      "metadata": {
        "id": "KJ9n9RFLWNNk"
      },
      "execution_count": null,
      "outputs": []
    },
    {
      "cell_type": "markdown",
      "source": [
        "not working:\n",
        "\n",
        "\n",
        "*   https://argo.ai\n",
        "*   https://landing.ai\n",
        "*   https://www.projectup.net/article/view/id/15726\n"
      ],
      "metadata": {
        "id": "dP0K6uCPsXQW"
      }
    }
  ]
}